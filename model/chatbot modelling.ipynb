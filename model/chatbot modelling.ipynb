{
  "cells": [
    {
      "cell_type": "markdown",
      "metadata": {
        "id": "view-in-github",
        "colab_type": "text"
      },
      "source": [
        "<a href=\"https://colab.research.google.com/github/DhaneshGavimath/NLP-Projects/blob/main/model/chatbot%20modelling.ipynb\" target=\"_parent\"><img src=\"https://colab.research.google.com/assets/colab-badge.svg\" alt=\"Open In Colab\"/></a>"
      ]
    },
    {
      "cell_type": "code",
      "execution_count": 2,
      "id": "727c49d9",
      "metadata": {
        "id": "727c49d9"
      },
      "outputs": [],
      "source": [
        "# pip install jupyterthemes\n",
        "# !jt -l"
      ]
    },
    {
      "cell_type": "code",
      "execution_count": 3,
      "id": "849252f4",
      "metadata": {
        "id": "849252f4"
      },
      "outputs": [],
      "source": [
        "# Choosing the notebook theme\n",
        "# !jt -t monokai"
      ]
    },
    {
      "cell_type": "markdown",
      "id": "6b03c252",
      "metadata": {
        "id": "6b03c252"
      },
      "source": [
        "Imports"
      ]
    },
    {
      "cell_type": "code",
      "execution_count": 4,
      "id": "489d7b14",
      "metadata": {
        "id": "489d7b14"
      },
      "outputs": [],
      "source": [
        "import pandas as pd\n",
        "import numpy as np\n",
        "import json\n",
        "import nltk \n",
        "import sklearn"
      ]
    },
    {
      "cell_type": "code",
      "execution_count": 5,
      "id": "76c94d81",
      "metadata": {
        "id": "76c94d81"
      },
      "outputs": [],
      "source": [
        "from nltk.tokenize import word_tokenize\n",
        "from nltk.stem.porter import PorterStemmer\n",
        "from nltk.corpus import stopwords\n",
        "from string import punctuation"
      ]
    },
    {
      "cell_type": "code",
      "execution_count": 14,
      "id": "392d0459",
      "metadata": {
        "colab": {
          "base_uri": "https://localhost:8080/"
        },
        "id": "392d0459",
        "outputId": "74bf5e70-8174-49cb-e5ec-ec70577ba15f"
      },
      "outputs": [
        {
          "output_type": "stream",
          "name": "stderr",
          "text": [
            "[nltk_data] Downloading package stopwords to /root/nltk_data...\n",
            "[nltk_data]   Package stopwords is already up-to-date!\n",
            "[nltk_data] Downloading package punkt to /root/nltk_data...\n",
            "[nltk_data]   Unzipping tokenizers/punkt.zip.\n"
          ]
        },
        {
          "output_type": "execute_result",
          "data": {
            "text/plain": [
              "True"
            ]
          },
          "metadata": {},
          "execution_count": 14
        }
      ],
      "source": [
        "nltk.download(\"stopwords\")\n",
        "nltk.download('punkt')"
      ]
    },
    {
      "cell_type": "code",
      "execution_count": 7,
      "id": "d865b5b4",
      "metadata": {
        "id": "d865b5b4"
      },
      "outputs": [],
      "source": [
        "\"\"\"\n",
        "classes\n",
        "\"\"\"\n",
        "intents_classes = [\"greetings\", \"goodbye\",\"fee_structure\", \"campus_placement\", \"departments\", \n",
        "                    \"adress\",\"activities\", \"commute\",\"gratitude\"]\n",
        "intents_classes.sort()\n",
        "classes_code_label = dict(map(lambda x:(intents_classes.index(x),x),intents_classes))\n",
        "classes_label_code = dict(map(lambda x:(x,intents_classes.index(x)),intents_classes))\n",
        "# print(\"-------------classes_str_to_num-----------\\n\",classes_str_to_num)\n",
        "# print(\"-------------classes_num_to_str-----------\\n\",classes_num_to_str)"
      ]
    },
    {
      "cell_type": "markdown",
      "id": "50e78851",
      "metadata": {
        "id": "50e78851"
      },
      "source": [
        "### Load Data\n",
        " Here we will be loading the json we made containing the questions user might ask.\n",
        " as we run this file it show load the training file, perform datacleaning, vector repressentation\n",
        " and finally creating a dataframe and write to current folder. \n",
        " we will be running this file only to retrain the model with updated data we might get new words.\n",
        "    "
      ]
    },
    {
      "cell_type": "code",
      "execution_count": null,
      "id": "c415a470",
      "metadata": {
        "id": "c415a470"
      },
      "outputs": [],
      "source": [
        "def load_chat_data():\n",
        "    # loading the data  \n",
        "    with open(\"train_classes.json\",'r') as jdata:\n",
        "        data = json.load(jdata)\n",
        "\n",
        "    train_data = []\n",
        "\n",
        "    for intent, sentences in data.items():\n",
        "        input_target_pair = list(map(lambda x: (x,intent),sentences))\n",
        "        train_data.extend(input_target_pair)\n",
        "\n",
        "    train_dataframe = pd.DataFrame(train_data, columns = [\"input\",\"target\"])\n",
        "    return train_dataframe\n",
        "\n",
        "data = load_chat_data()\n",
        "data.head()"
      ]
    },
    {
      "cell_type": "code",
      "execution_count": 10,
      "id": "93ba4f4b",
      "metadata": {
        "id": "93ba4f4b"
      },
      "outputs": [],
      "source": [
        "\"\"\"\n",
        "Replacing the target with numeric value\n",
        "\"\"\"\n",
        "data[\"target\"] = data[\"target\"].map(classes_label_code)"
      ]
    },
    {
      "cell_type": "code",
      "execution_count": 12,
      "id": "5b954d25",
      "metadata": {
        "id": "5b954d25"
      },
      "outputs": [],
      "source": [
        "def tokenize(data):\n",
        "    # Word tokenize\n",
        "    tokens = word_tokenize(data)\n",
        "    return tokens\n",
        "\n",
        "def remove_junks(tokens):\n",
        "    # Removing punctuations\n",
        "    wo_punctuations  = set(tokens).difference(set(punctuation))\n",
        "    # Remove stopwords\n",
        "    stop_words = set(stopwords.words('english'))\n",
        "    wo_stopwords_puncts = wo_punctuations.difference(stop_words)\n",
        "    return list(wo_stopwords_puncts)\n",
        "\n",
        "def stemming(clean_words):\n",
        "    stem_obj = PorterStemmer()\n",
        "    stem_words = list(map(lambda x:stem_obj.stem(x),clean_words))\n",
        "    return stem_words\n",
        "\n",
        "def create_vocabulary(data, column):\n",
        "    # creating a vocanulary out of text column\n",
        "    vocab = []\n",
        "    for record in data[column].values:\n",
        "      vocab.extend(record)\n",
        "    return set(vocab)\n",
        "\n",
        "def clean_data(df, column):\n",
        "    df[column]= df[column].apply(tokenize)\n",
        "    df[column]= df[column].apply(remove_junks)\n",
        "    df[column]= df[column].apply(stemming)\n",
        "    return df"
      ]
    },
    {
      "cell_type": "code",
      "execution_count": 15,
      "id": "3a41692e",
      "metadata": {
        "id": "3a41692e"
      },
      "outputs": [],
      "source": [
        "cleaned_data = clean_data(data,\"input\")"
      ]
    },
    {
      "cell_type": "code",
      "source": [
        "# cleaned_data"
      ],
      "metadata": {
        "id": "TTTswD1G1gJF"
      },
      "id": "TTTswD1G1gJF",
      "execution_count": 18,
      "outputs": []
    },
    {
      "cell_type": "code",
      "source": [],
      "metadata": {
        "id": "wmiNFNld1tcS"
      },
      "id": "wmiNFNld1tcS",
      "execution_count": null,
      "outputs": []
    },
    {
      "cell_type": "code",
      "source": [],
      "metadata": {
        "id": "JdsW4-gs3m_Z"
      },
      "id": "JdsW4-gs3m_Z",
      "execution_count": 19,
      "outputs": []
    },
    {
      "cell_type": "code",
      "source": [],
      "metadata": {
        "id": "xVmfH1_X3wjl"
      },
      "id": "xVmfH1_X3wjl",
      "execution_count": null,
      "outputs": []
    }
  ],
  "metadata": {
    "kernelspec": {
      "display_name": "Python 3",
      "language": "python",
      "name": "python3"
    },
    "language_info": {
      "codemirror_mode": {
        "name": "ipython",
        "version": 3
      },
      "file_extension": ".py",
      "mimetype": "text/x-python",
      "name": "python",
      "nbconvert_exporter": "python",
      "pygments_lexer": "ipython3",
      "version": "3.10.9 (tags/v3.10.9:1dd9be6, Dec  6 2022, 20:01:21) [MSC v.1934 64 bit (AMD64)]"
    },
    "vscode": {
      "interpreter": {
        "hash": "36840aa061d57676fd0a98adb9ce61fb9c401615cb1ec9b9a8602da2202b251d"
      }
    },
    "colab": {
      "provenance": [],
      "include_colab_link": true
    }
  },
  "nbformat": 4,
  "nbformat_minor": 5
}