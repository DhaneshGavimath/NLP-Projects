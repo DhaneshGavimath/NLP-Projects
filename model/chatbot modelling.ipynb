{
  "cells": [
    {
      "cell_type": "markdown",
      "metadata": {
        "id": "view-in-github",
        "colab_type": "text"
      },
      "source": [
        "<a href=\"https://colab.research.google.com/github/DhaneshGavimath/NLP-Projects/blob/main/model/chatbot%20modelling.ipynb\" target=\"_parent\"><img src=\"https://colab.research.google.com/assets/colab-badge.svg\" alt=\"Open In Colab\"/></a>"
      ]
    },
    {
      "cell_type": "code",
      "execution_count": 1,
      "id": "727c49d9",
      "metadata": {
        "id": "727c49d9"
      },
      "outputs": [],
      "source": [
        "# pip install jupyterthemes\n",
        "# !jt -l"
      ]
    },
    {
      "cell_type": "code",
      "execution_count": 2,
      "id": "849252f4",
      "metadata": {
        "id": "849252f4"
      },
      "outputs": [],
      "source": [
        "# Choosing the notebook theme\n",
        "# !jt -t monokai"
      ]
    },
    {
      "cell_type": "markdown",
      "id": "6b03c252",
      "metadata": {
        "id": "6b03c252"
      },
      "source": [
        "Imports"
      ]
    },
    {
      "cell_type": "code",
      "execution_count": 3,
      "id": "489d7b14",
      "metadata": {
        "id": "489d7b14"
      },
      "outputs": [],
      "source": [
        "import pandas as pd\n",
        "import numpy as np\n",
        "import json\n",
        "import nltk \n",
        "import sklearn"
      ]
    },
    {
      "cell_type": "code",
      "source": [
        "import tensorflow as tf\n"
      ],
      "metadata": {
        "id": "6LC6c8BGEhDA"
      },
      "id": "6LC6c8BGEhDA",
      "execution_count": 4,
      "outputs": []
    },
    {
      "cell_type": "code",
      "execution_count": 5,
      "id": "76c94d81",
      "metadata": {
        "id": "76c94d81"
      },
      "outputs": [],
      "source": [
        "from nltk.tokenize import word_tokenize\n",
        "from nltk.stem.porter import PorterStemmer\n",
        "from nltk.corpus import stopwords\n",
        "from string import punctuation"
      ]
    },
    {
      "cell_type": "code",
      "execution_count": 6,
      "id": "392d0459",
      "metadata": {
        "colab": {
          "base_uri": "https://localhost:8080/"
        },
        "id": "392d0459",
        "outputId": "b523ad40-b88b-445a-f584-0ac1431d46d2"
      },
      "outputs": [
        {
          "output_type": "stream",
          "name": "stderr",
          "text": [
            "[nltk_data] Downloading package stopwords to /root/nltk_data...\n",
            "[nltk_data]   Package stopwords is already up-to-date!\n",
            "[nltk_data] Downloading package punkt to /root/nltk_data...\n",
            "[nltk_data]   Package punkt is already up-to-date!\n"
          ]
        },
        {
          "output_type": "execute_result",
          "data": {
            "text/plain": [
              "True"
            ]
          },
          "metadata": {},
          "execution_count": 6
        }
      ],
      "source": [
        "nltk.download(\"stopwords\")\n",
        "nltk.download('punkt')"
      ]
    },
    {
      "cell_type": "code",
      "execution_count": 7,
      "id": "d865b5b4",
      "metadata": {
        "id": "d865b5b4"
      },
      "outputs": [],
      "source": [
        "\"\"\"\n",
        "classes\n",
        "\"\"\"\n",
        "intents_classes = [\"greetings\", \"goodbye\",\"fee_structure\", \"campus_placement\", \"departments\", \n",
        "                    \"adress\",\"activities\", \"commute\",\"gratitude\"]\n",
        "intents_classes.sort()\n",
        "classes_code_label = dict(map(lambda x:(intents_classes.index(x),x),intents_classes))\n",
        "classes_label_code = dict(map(lambda x:(x,intents_classes.index(x)),intents_classes))\n",
        "# print(\"-------------classes_str_to_num-----------\\n\",classes_str_to_num)\n",
        "# print(\"-------------classes_num_to_str-----------\\n\",classes_num_to_str)"
      ]
    },
    {
      "cell_type": "markdown",
      "source": [
        "Createing onehot vector representation for output vector"
      ],
      "metadata": {
        "id": "rWeHoAXhNT8x"
      },
      "id": "rWeHoAXhNT8x"
    },
    {
      "cell_type": "code",
      "source": [
        "def vector(output_class):\n",
        "    vec = np.zeros(len(intents_classes))\n",
        "    vec[intents_classes.index(output_class)] = 1\n",
        "    return vec"
      ],
      "metadata": {
        "id": "96ZuuZlKNxRt"
      },
      "id": "96ZuuZlKNxRt",
      "execution_count": 8,
      "outputs": []
    },
    {
      "cell_type": "code",
      "source": [
        "classes_vec_label = dict()\n",
        "\n",
        "for intent in intents_classes:\n",
        "  classes_vec_label[intent] = vector(intent)\n",
        "\n",
        "print(classes_vec_label)"
      ],
      "metadata": {
        "id": "0phA9l_HNfbJ",
        "outputId": "47c8d178-cbef-4cfe-aacd-cc5df47faf8a",
        "colab": {
          "base_uri": "https://localhost:8080/"
        }
      },
      "id": "0phA9l_HNfbJ",
      "execution_count": 9,
      "outputs": [
        {
          "output_type": "stream",
          "name": "stdout",
          "text": [
            "{'activities': array([1., 0., 0., 0., 0., 0., 0., 0., 0.]), 'adress': array([0., 1., 0., 0., 0., 0., 0., 0., 0.]), 'campus_placement': array([0., 0., 1., 0., 0., 0., 0., 0., 0.]), 'commute': array([0., 0., 0., 1., 0., 0., 0., 0., 0.]), 'departments': array([0., 0., 0., 0., 1., 0., 0., 0., 0.]), 'fee_structure': array([0., 0., 0., 0., 0., 1., 0., 0., 0.]), 'goodbye': array([0., 0., 0., 0., 0., 0., 1., 0., 0.]), 'gratitude': array([0., 0., 0., 0., 0., 0., 0., 1., 0.]), 'greetings': array([0., 0., 0., 0., 0., 0., 0., 0., 1.])}\n"
          ]
        }
      ]
    },
    {
      "cell_type": "code",
      "source": [],
      "metadata": {
        "id": "vWpTtZmkPsii"
      },
      "id": "vWpTtZmkPsii",
      "execution_count": 9,
      "outputs": []
    },
    {
      "cell_type": "markdown",
      "id": "50e78851",
      "metadata": {
        "id": "50e78851"
      },
      "source": [
        "### Load Data\n",
        " Here we will be loading the json we made containing the questions user might ask.\n",
        " as we run this file it show load the training file, perform datacleaning, vector repressentation\n",
        " and finally creating a dataframe and write to current folder. \n",
        " we will be running this file only to retrain the model with updated data we might get new words.\n",
        "    "
      ]
    },
    {
      "cell_type": "code",
      "execution_count": 10,
      "id": "c415a470",
      "metadata": {
        "colab": {
          "base_uri": "https://localhost:8080/",
          "height": 206
        },
        "id": "c415a470",
        "outputId": "8c32e014-e67f-46f8-a7c5-e05dbac7f6d2"
      },
      "outputs": [
        {
          "output_type": "execute_result",
          "data": {
            "text/plain": [
              "           input     target\n",
              "0             Hi  greetings\n",
              "1          Hello  greetings\n",
              "2  Good Morning!  greetings\n",
              "3  Good Evening!  greetings\n",
              "4            bye    goodbye"
            ],
            "text/html": [
              "\n",
              "  <div id=\"df-4f1b590f-6589-4b60-9c1a-a2fcff5d4240\">\n",
              "    <div class=\"colab-df-container\">\n",
              "      <div>\n",
              "<style scoped>\n",
              "    .dataframe tbody tr th:only-of-type {\n",
              "        vertical-align: middle;\n",
              "    }\n",
              "\n",
              "    .dataframe tbody tr th {\n",
              "        vertical-align: top;\n",
              "    }\n",
              "\n",
              "    .dataframe thead th {\n",
              "        text-align: right;\n",
              "    }\n",
              "</style>\n",
              "<table border=\"1\" class=\"dataframe\">\n",
              "  <thead>\n",
              "    <tr style=\"text-align: right;\">\n",
              "      <th></th>\n",
              "      <th>input</th>\n",
              "      <th>target</th>\n",
              "    </tr>\n",
              "  </thead>\n",
              "  <tbody>\n",
              "    <tr>\n",
              "      <th>0</th>\n",
              "      <td>Hi</td>\n",
              "      <td>greetings</td>\n",
              "    </tr>\n",
              "    <tr>\n",
              "      <th>1</th>\n",
              "      <td>Hello</td>\n",
              "      <td>greetings</td>\n",
              "    </tr>\n",
              "    <tr>\n",
              "      <th>2</th>\n",
              "      <td>Good Morning!</td>\n",
              "      <td>greetings</td>\n",
              "    </tr>\n",
              "    <tr>\n",
              "      <th>3</th>\n",
              "      <td>Good Evening!</td>\n",
              "      <td>greetings</td>\n",
              "    </tr>\n",
              "    <tr>\n",
              "      <th>4</th>\n",
              "      <td>bye</td>\n",
              "      <td>goodbye</td>\n",
              "    </tr>\n",
              "  </tbody>\n",
              "</table>\n",
              "</div>\n",
              "      <button class=\"colab-df-convert\" onclick=\"convertToInteractive('df-4f1b590f-6589-4b60-9c1a-a2fcff5d4240')\"\n",
              "              title=\"Convert this dataframe to an interactive table.\"\n",
              "              style=\"display:none;\">\n",
              "        \n",
              "  <svg xmlns=\"http://www.w3.org/2000/svg\" height=\"24px\"viewBox=\"0 0 24 24\"\n",
              "       width=\"24px\">\n",
              "    <path d=\"M0 0h24v24H0V0z\" fill=\"none\"/>\n",
              "    <path d=\"M18.56 5.44l.94 2.06.94-2.06 2.06-.94-2.06-.94-.94-2.06-.94 2.06-2.06.94zm-11 1L8.5 8.5l.94-2.06 2.06-.94-2.06-.94L8.5 2.5l-.94 2.06-2.06.94zm10 10l.94 2.06.94-2.06 2.06-.94-2.06-.94-.94-2.06-.94 2.06-2.06.94z\"/><path d=\"M17.41 7.96l-1.37-1.37c-.4-.4-.92-.59-1.43-.59-.52 0-1.04.2-1.43.59L10.3 9.45l-7.72 7.72c-.78.78-.78 2.05 0 2.83L4 21.41c.39.39.9.59 1.41.59.51 0 1.02-.2 1.41-.59l7.78-7.78 2.81-2.81c.8-.78.8-2.07 0-2.86zM5.41 20L4 18.59l7.72-7.72 1.47 1.35L5.41 20z\"/>\n",
              "  </svg>\n",
              "      </button>\n",
              "      \n",
              "  <style>\n",
              "    .colab-df-container {\n",
              "      display:flex;\n",
              "      flex-wrap:wrap;\n",
              "      gap: 12px;\n",
              "    }\n",
              "\n",
              "    .colab-df-convert {\n",
              "      background-color: #E8F0FE;\n",
              "      border: none;\n",
              "      border-radius: 50%;\n",
              "      cursor: pointer;\n",
              "      display: none;\n",
              "      fill: #1967D2;\n",
              "      height: 32px;\n",
              "      padding: 0 0 0 0;\n",
              "      width: 32px;\n",
              "    }\n",
              "\n",
              "    .colab-df-convert:hover {\n",
              "      background-color: #E2EBFA;\n",
              "      box-shadow: 0px 1px 2px rgba(60, 64, 67, 0.3), 0px 1px 3px 1px rgba(60, 64, 67, 0.15);\n",
              "      fill: #174EA6;\n",
              "    }\n",
              "\n",
              "    [theme=dark] .colab-df-convert {\n",
              "      background-color: #3B4455;\n",
              "      fill: #D2E3FC;\n",
              "    }\n",
              "\n",
              "    [theme=dark] .colab-df-convert:hover {\n",
              "      background-color: #434B5C;\n",
              "      box-shadow: 0px 1px 3px 1px rgba(0, 0, 0, 0.15);\n",
              "      filter: drop-shadow(0px 1px 2px rgba(0, 0, 0, 0.3));\n",
              "      fill: #FFFFFF;\n",
              "    }\n",
              "  </style>\n",
              "\n",
              "      <script>\n",
              "        const buttonEl =\n",
              "          document.querySelector('#df-4f1b590f-6589-4b60-9c1a-a2fcff5d4240 button.colab-df-convert');\n",
              "        buttonEl.style.display =\n",
              "          google.colab.kernel.accessAllowed ? 'block' : 'none';\n",
              "\n",
              "        async function convertToInteractive(key) {\n",
              "          const element = document.querySelector('#df-4f1b590f-6589-4b60-9c1a-a2fcff5d4240');\n",
              "          const dataTable =\n",
              "            await google.colab.kernel.invokeFunction('convertToInteractive',\n",
              "                                                     [key], {});\n",
              "          if (!dataTable) return;\n",
              "\n",
              "          const docLinkHtml = 'Like what you see? Visit the ' +\n",
              "            '<a target=\"_blank\" href=https://colab.research.google.com/notebooks/data_table.ipynb>data table notebook</a>'\n",
              "            + ' to learn more about interactive tables.';\n",
              "          element.innerHTML = '';\n",
              "          dataTable['output_type'] = 'display_data';\n",
              "          await google.colab.output.renderOutput(dataTable, element);\n",
              "          const docLink = document.createElement('div');\n",
              "          docLink.innerHTML = docLinkHtml;\n",
              "          element.appendChild(docLink);\n",
              "        }\n",
              "      </script>\n",
              "    </div>\n",
              "  </div>\n",
              "  "
            ]
          },
          "metadata": {},
          "execution_count": 10
        }
      ],
      "source": [
        "def load_chat_data():\n",
        "    # loading the data  \n",
        "    with open(\"train_classes.json\",'r') as jdata:\n",
        "        data = json.load(jdata)\n",
        "\n",
        "    train_data = []\n",
        "\n",
        "    for intent, sentences in data.items():\n",
        "        input_target_pair = list(map(lambda x: (x,intent),sentences))\n",
        "        train_data.extend(input_target_pair)\n",
        "\n",
        "    train_dataframe = pd.DataFrame(train_data, columns = [\"input\",\"target\"])\n",
        "    return train_dataframe\n",
        "\n",
        "data = load_chat_data()\n",
        "data.head()"
      ]
    },
    {
      "cell_type": "code",
      "execution_count": 11,
      "id": "93ba4f4b",
      "metadata": {
        "id": "93ba4f4b"
      },
      "outputs": [],
      "source": [
        "\"\"\"\n",
        "Replacing the target with numeric value\n",
        "\"\"\"\n",
        "data[\"target\"] = data[\"target\"].map(classes_vec_label)"
      ]
    },
    {
      "cell_type": "code",
      "source": [
        "# data.head()"
      ],
      "metadata": {
        "id": "vnm_VxHrP-19"
      },
      "id": "vnm_VxHrP-19",
      "execution_count": 12,
      "outputs": []
    },
    {
      "cell_type": "code",
      "execution_count": 13,
      "id": "5b954d25",
      "metadata": {
        "id": "5b954d25"
      },
      "outputs": [],
      "source": [
        "def tokenize(data):\n",
        "    # Word tokenize\n",
        "    tokens = word_tokenize(data)\n",
        "    return tokens\n",
        "\n",
        "def remove_junks(tokens):\n",
        "    # Removing punctuations\n",
        "    wo_punctuations  = set(tokens).difference(set(punctuation))\n",
        "    # Remove stopwords\n",
        "    stop_words = set(stopwords.words('english'))\n",
        "    wo_stopwords_puncts = wo_punctuations.difference(stop_words)\n",
        "    return list(wo_stopwords_puncts)\n",
        "\n",
        "def stemming(clean_words):\n",
        "    stem_obj = PorterStemmer()\n",
        "    lower_case_words = list(map(lambda x:x.lower(),clean_words))\n",
        "    stem_words = list(map(lambda x:stem_obj.stem(x),lower_case_words))\n",
        "    return stem_words\n",
        "\n",
        "def create_vocabulary(data, column):\n",
        "    # creating a vocabulary out of text column\n",
        "    vocab = []\n",
        "    for record in data[column].values:\n",
        "      vocab.extend(record)\n",
        "    return set(vocab)\n",
        "\n",
        "def clean_data(df, column):\n",
        "    df[column]= df[column].apply(tokenize)\n",
        "    df[column]= df[column].apply(remove_junks)\n",
        "    df[column]= df[column].apply(stemming)\n",
        "    return df"
      ]
    },
    {
      "cell_type": "code",
      "execution_count": 14,
      "id": "3a41692e",
      "metadata": {
        "id": "3a41692e"
      },
      "outputs": [],
      "source": [
        "data = clean_data(data,\"input\")\n"
      ]
    },
    {
      "cell_type": "code",
      "source": [
        "vocabulary = create_vocabulary(data, \"input\")\n",
        "vocab_dict = {\"vocabulary\": list(vocabulary)}"
      ],
      "metadata": {
        "id": "2jmC_IWC4udF"
      },
      "id": "2jmC_IWC4udF",
      "execution_count": 15,
      "outputs": []
    },
    {
      "cell_type": "code",
      "source": [
        "# Writing Vocabulary to json file\n",
        "with open(\"vocabulary.json\",\"w\") as voc_save_file:\n",
        "  json.dump(vocab_dict,voc_save_file)"
      ],
      "metadata": {
        "id": "TTTswD1G1gJF"
      },
      "id": "TTTswD1G1gJF",
      "execution_count": 16,
      "outputs": []
    },
    {
      "cell_type": "code",
      "source": [
        "# Let's represent each text with bag-of-words method\n",
        "def bag_of_words_representation(df, column):\n",
        "    vocab = vocab_dict[\"vocabulary\"]\n",
        "    def vector_represent(record):\n",
        "      bag_of_words = np.zeros(len(vocabulary))\n",
        "      for word in record:\n",
        "        if word in vocab:\n",
        "          bag_of_words[vocab.index(word)] += 1\n",
        "      return bag_of_words\n",
        "      \n",
        "    vector_matrix = list(map(lambda x: vector_represent(x),df[column].values))\n",
        "    bow_df = pd.DataFrame(vector_matrix,columns=vocabulary)\n",
        "    df.drop(columns=[column], inplace=True)\n",
        "    final_df = pd.concat([df,bow_df],axis=1)\n",
        "    return final_df\n",
        "  \n"
      ],
      "metadata": {
        "id": "wmiNFNld1tcS"
      },
      "id": "wmiNFNld1tcS",
      "execution_count": 17,
      "outputs": []
    },
    {
      "cell_type": "code",
      "source": [
        "data = bag_of_words_representation(data,\"input\")"
      ],
      "metadata": {
        "id": "JdsW4-gs3m_Z"
      },
      "id": "JdsW4-gs3m_Z",
      "execution_count": 18,
      "outputs": []
    },
    {
      "cell_type": "code",
      "source": [
        "# data.head()"
      ],
      "metadata": {
        "id": "xVmfH1_X3wjl"
      },
      "id": "xVmfH1_X3wjl",
      "execution_count": 19,
      "outputs": []
    },
    {
      "cell_type": "code",
      "source": [
        "y_data =pd.DataFrame(data[\"target\"])\n",
        "x_data = data.drop(columns=['target'])\n",
        "print(x_data.head())\n",
        "print(\"****************************\")\n",
        "print(y_data)\n"
      ],
      "metadata": {
        "id": "lrEZuG2MGZq_",
        "outputId": "8825ca2e-7e96-4c8e-9367-821cfe0c0ad3",
        "colab": {
          "base_uri": "https://localhost:8080/"
        }
      },
      "id": "lrEZuG2MGZq_",
      "execution_count": 29,
      "outputs": [
        {
          "output_type": "stream",
          "name": "stdout",
          "text": [
            "   campu  metro  placement  locat  structur  adress  fee_structur  subject  \\\n",
            "0    0.0    0.0        0.0    0.0       0.0     0.0           0.0      0.0   \n",
            "1    0.0    0.0        0.0    0.0       0.0     0.0           0.0      0.0   \n",
            "2    0.0    0.0        0.0    0.0       0.0     0.0           0.0      0.0   \n",
            "3    0.0    0.0        0.0    0.0       0.0     0.0           0.0      0.0   \n",
            "4    0.0    0.0        0.0    0.0       0.0     0.0           0.0      0.0   \n",
            "\n",
            "   nearbi  bye  ...  avail  provid  travel  sport  night  cours  choos  taxi  \\\n",
            "0     0.0  0.0  ...    0.0     0.0     0.0    0.0    0.0    0.0    0.0   0.0   \n",
            "1     0.0  0.0  ...    0.0     0.0     0.0    0.0    0.0    0.0    0.0   0.0   \n",
            "2     0.0  0.0  ...    0.0     0.0     0.0    0.0    0.0    0.0    0.0   0.0   \n",
            "3     0.0  0.0  ...    0.0     0.0     0.0    0.0    0.0    0.0    0.0   0.0   \n",
            "4     0.0  1.0  ...    0.0     0.0     0.0    0.0    0.0    0.0    0.0   0.0   \n",
            "\n",
            "   opertun  thank  \n",
            "0      0.0    0.0  \n",
            "1      0.0    0.0  \n",
            "2      0.0    0.0  \n",
            "3      0.0    0.0  \n",
            "4      0.0    0.0  \n",
            "\n",
            "[5 rows x 45 columns]\n",
            "****************************\n",
            "                                           target\n",
            "0   [0.0, 0.0, 0.0, 0.0, 0.0, 0.0, 0.0, 0.0, 1.0]\n",
            "1   [0.0, 0.0, 0.0, 0.0, 0.0, 0.0, 0.0, 0.0, 1.0]\n",
            "2   [0.0, 0.0, 0.0, 0.0, 0.0, 0.0, 0.0, 0.0, 1.0]\n",
            "3   [0.0, 0.0, 0.0, 0.0, 0.0, 0.0, 0.0, 0.0, 1.0]\n",
            "4   [0.0, 0.0, 0.0, 0.0, 0.0, 0.0, 1.0, 0.0, 0.0]\n",
            "5   [0.0, 0.0, 0.0, 0.0, 0.0, 0.0, 1.0, 0.0, 0.0]\n",
            "6   [0.0, 0.0, 0.0, 0.0, 0.0, 0.0, 1.0, 0.0, 0.0]\n",
            "7   [0.0, 0.0, 0.0, 0.0, 0.0, 1.0, 0.0, 0.0, 0.0]\n",
            "8   [0.0, 0.0, 0.0, 0.0, 0.0, 1.0, 0.0, 0.0, 0.0]\n",
            "9   [0.0, 0.0, 0.0, 0.0, 0.0, 1.0, 0.0, 0.0, 0.0]\n",
            "10  [0.0, 0.0, 0.0, 0.0, 0.0, 1.0, 0.0, 0.0, 0.0]\n",
            "11  [0.0, 0.0, 1.0, 0.0, 0.0, 0.0, 0.0, 0.0, 0.0]\n",
            "12  [0.0, 0.0, 1.0, 0.0, 0.0, 0.0, 0.0, 0.0, 0.0]\n",
            "13  [0.0, 0.0, 1.0, 0.0, 0.0, 0.0, 0.0, 0.0, 0.0]\n",
            "14  [0.0, 0.0, 0.0, 0.0, 1.0, 0.0, 0.0, 0.0, 0.0]\n",
            "15  [0.0, 0.0, 0.0, 0.0, 1.0, 0.0, 0.0, 0.0, 0.0]\n",
            "16  [0.0, 0.0, 0.0, 0.0, 1.0, 0.0, 0.0, 0.0, 0.0]\n",
            "17  [0.0, 1.0, 0.0, 0.0, 0.0, 0.0, 0.0, 0.0, 0.0]\n",
            "18  [0.0, 1.0, 0.0, 0.0, 0.0, 0.0, 0.0, 0.0, 0.0]\n",
            "19  [0.0, 1.0, 0.0, 0.0, 0.0, 0.0, 0.0, 0.0, 0.0]\n",
            "20  [1.0, 0.0, 0.0, 0.0, 0.0, 0.0, 0.0, 0.0, 0.0]\n",
            "21  [1.0, 0.0, 0.0, 0.0, 0.0, 0.0, 0.0, 0.0, 0.0]\n",
            "22  [1.0, 0.0, 0.0, 0.0, 0.0, 0.0, 0.0, 0.0, 0.0]\n",
            "23  [0.0, 0.0, 0.0, 1.0, 0.0, 0.0, 0.0, 0.0, 0.0]\n",
            "24  [0.0, 0.0, 0.0, 1.0, 0.0, 0.0, 0.0, 0.0, 0.0]\n",
            "25  [0.0, 0.0, 0.0, 1.0, 0.0, 0.0, 0.0, 0.0, 0.0]\n",
            "26  [0.0, 0.0, 0.0, 1.0, 0.0, 0.0, 0.0, 0.0, 0.0]\n",
            "27  [0.0, 0.0, 0.0, 1.0, 0.0, 0.0, 0.0, 0.0, 0.0]\n",
            "28  [0.0, 0.0, 0.0, 1.0, 0.0, 0.0, 0.0, 0.0, 0.0]\n",
            "29  [0.0, 0.0, 0.0, 0.0, 0.0, 0.0, 0.0, 1.0, 0.0]\n",
            "30  [0.0, 0.0, 0.0, 0.0, 0.0, 0.0, 0.0, 1.0, 0.0]\n",
            "31  [0.0, 0.0, 0.0, 0.0, 0.0, 0.0, 0.0, 1.0, 0.0]\n",
            "32  [0.0, 0.0, 0.0, 0.0, 0.0, 0.0, 0.0, 1.0, 0.0]\n",
            "33  [0.0, 0.0, 0.0, 0.0, 0.0, 0.0, 0.0, 1.0, 0.0]\n",
            "34  [0.0, 0.0, 0.0, 0.0, 0.0, 0.0, 0.0, 1.0, 0.0]\n"
          ]
        }
      ]
    },
    {
      "cell_type": "markdown",
      "source": [
        "Converting Numpy inputs to tensors\n"
      ],
      "metadata": {
        "id": "FpFq8TQAQya6"
      },
      "id": "FpFq8TQAQya6"
    },
    {
      "cell_type": "code",
      "source": [
        "x_tensors = tf.convert_to_tensor(x_data)\n",
        "# y_tensors = tf.convert_to_tensor(y_data['target'].values)"
      ],
      "metadata": {
        "id": "6E2jmmiKRrtq"
      },
      "id": "6E2jmmiKRrtq",
      "execution_count": 32,
      "outputs": []
    },
    {
      "cell_type": "markdown",
      "source": [
        "\n",
        "**Model**\n",
        "\n"
      ],
      "metadata": {
        "id": "nD0Dcoz4Fl_Y"
      },
      "id": "nD0Dcoz4Fl_Y"
    },
    {
      "cell_type": "code",
      "source": [
        "input_layer = tf.keras.Input(shape=(x_data.shape[1],))\n",
        "middle_layer = tf.keras.layers.Dense(32, activation='relu') \n",
        "output_layer =  tf.keras.layers.Dense(9) \n",
        "\n",
        "model = tf.keras.Sequential()\n",
        "model.add(input_layer)\n",
        "model.add(middle_layer)\n",
        "model.add(output_layer)\n",
        "\n",
        "model.summary()"
      ],
      "metadata": {
        "id": "OG41C1U-Fux5"
      },
      "id": "OG41C1U-Fux5",
      "execution_count": null,
      "outputs": []
    },
    {
      "cell_type": "code",
      "source": [
        "model.compile(optimizer='sgd', loss='mse')\n"
      ],
      "metadata": {
        "id": "AzEMrocpK4b5"
      },
      "id": "AzEMrocpK4b5",
      "execution_count": null,
      "outputs": []
    },
    {
      "cell_type": "code",
      "source": [
        "model.fit(x_tensors, y_tensors, batch_size=32, epochs=10)"
      ],
      "metadata": {
        "id": "hlJPBNRyQjA3"
      },
      "id": "hlJPBNRyQjA3",
      "execution_count": null,
      "outputs": []
    }
  ],
  "metadata": {
    "kernelspec": {
      "display_name": "Python 3",
      "language": "python",
      "name": "python3"
    },
    "language_info": {
      "codemirror_mode": {
        "name": "ipython",
        "version": 3
      },
      "file_extension": ".py",
      "mimetype": "text/x-python",
      "name": "python",
      "nbconvert_exporter": "python",
      "pygments_lexer": "ipython3",
      "version": "3.10.9 (tags/v3.10.9:1dd9be6, Dec  6 2022, 20:01:21) [MSC v.1934 64 bit (AMD64)]"
    },
    "vscode": {
      "interpreter": {
        "hash": "36840aa061d57676fd0a98adb9ce61fb9c401615cb1ec9b9a8602da2202b251d"
      }
    },
    "colab": {
      "provenance": [],
      "include_colab_link": true
    }
  },
  "nbformat": 4,
  "nbformat_minor": 5
}