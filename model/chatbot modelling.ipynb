{
 "cells": [
  {
   "cell_type": "code",
   "execution_count": 16,
   "id": "727c49d9",
   "metadata": {},
   "outputs": [],
   "source": [
    "# pip install jupyterthemes\n",
    "# !jt -l"
   ]
  },
  {
   "cell_type": "code",
   "execution_count": 8,
   "id": "849252f4",
   "metadata": {},
   "outputs": [
    {
     "name": "stderr",
     "output_type": "stream",
     "text": [
      "'jt' is not recognized as an internal or external command,\n",
      "operable program or batch file.\n"
     ]
    }
   ],
   "source": [
    "# Choosing the notebook theme\n",
    "# !jt -t monokai"
   ]
  },
  {
   "attachments": {},
   "cell_type": "markdown",
   "id": "6b03c252",
   "metadata": {},
   "source": [
    "Imports"
   ]
  },
  {
   "cell_type": "code",
   "execution_count": 17,
   "id": "489d7b14",
   "metadata": {},
   "outputs": [],
   "source": [
    "import pandas as pd\n",
    "import numpy as np\n",
    "import json\n",
    "import nltk \n",
    "import sklearn"
   ]
  },
  {
   "cell_type": "code",
   "execution_count": 18,
   "id": "76c94d81",
   "metadata": {},
   "outputs": [],
   "source": [
    "from nltk.tokenize import word_tokenize\n",
    "from nltk.stem.porter import PorterStemmer\n",
    "from nltk.corpus import stopwords\n",
    "from string import punctuation"
   ]
  },
  {
   "cell_type": "code",
   "execution_count": 19,
   "id": "392d0459",
   "metadata": {},
   "outputs": [
    {
     "name": "stderr",
     "output_type": "stream",
     "text": [
      "[nltk_data] Error loading stopwords: <urlopen error [WinError 10060] A\n",
      "[nltk_data]     connection attempt failed because the connected party\n",
      "[nltk_data]     did not properly respond after a period of time, or\n",
      "[nltk_data]     established connection failed because connected host\n",
      "[nltk_data]     has failed to respond>\n"
     ]
    },
    {
     "data": {
      "text/plain": [
       "False"
      ]
     },
     "execution_count": 19,
     "metadata": {},
     "output_type": "execute_result"
    }
   ],
   "source": [
    "nltk.download(\"stopwords\")"
   ]
  },
  {
   "cell_type": "code",
   "execution_count": 20,
   "id": "d865b5b4",
   "metadata": {},
   "outputs": [],
   "source": [
    "\"\"\"\n",
    "classes\n",
    "\"\"\"\n",
    "intents_classes = [\"greetings\", \"goodbye\",\"fee_structure\", \"campus_placement\", \"departments\", \n",
    "                    \"adress\",\"activities\", \"commute\",\"gratitude\"]\n",
    "intents_classes.sort()\n",
    "classes_code_label = dict(map(lambda x:(intents_classes.index(x),x),intents_classes))\n",
    "classes_label_code = dict(map(lambda x:(x,intents_classes.index(x)),intents_classes))\n",
    "# print(\"-------------classes_str_to_num-----------\\n\",classes_str_to_num)\n",
    "# print(\"-------------classes_num_to_str-----------\\n\",classes_num_to_str)"
   ]
  },
  {
   "cell_type": "markdown",
   "id": "50e78851",
   "metadata": {},
   "source": [
    "### Load Data\n",
    " Here we will be loading the json we made containing the questions user might ask.\n",
    " as we run this file it show load the training file, perform datacleaning, vector repressentation\n",
    " and finally creating a dataframe and write to current folder. \n",
    " we will be running this file only to retrain the model with updated data we might get new words.\n",
    "    "
   ]
  },
  {
   "cell_type": "code",
   "execution_count": 22,
   "id": "c415a470",
   "metadata": {},
   "outputs": [
    {
     "data": {
      "text/html": [
       "<div>\n",
       "<style scoped>\n",
       "    .dataframe tbody tr th:only-of-type {\n",
       "        vertical-align: middle;\n",
       "    }\n",
       "\n",
       "    .dataframe tbody tr th {\n",
       "        vertical-align: top;\n",
       "    }\n",
       "\n",
       "    .dataframe thead th {\n",
       "        text-align: right;\n",
       "    }\n",
       "</style>\n",
       "<table border=\"1\" class=\"dataframe\">\n",
       "  <thead>\n",
       "    <tr style=\"text-align: right;\">\n",
       "      <th></th>\n",
       "      <th>input</th>\n",
       "      <th>target</th>\n",
       "    </tr>\n",
       "  </thead>\n",
       "  <tbody>\n",
       "    <tr>\n",
       "      <th>0</th>\n",
       "      <td>Hi</td>\n",
       "      <td>greetings</td>\n",
       "    </tr>\n",
       "    <tr>\n",
       "      <th>1</th>\n",
       "      <td>Hello</td>\n",
       "      <td>greetings</td>\n",
       "    </tr>\n",
       "    <tr>\n",
       "      <th>2</th>\n",
       "      <td>Good Morning!</td>\n",
       "      <td>greetings</td>\n",
       "    </tr>\n",
       "    <tr>\n",
       "      <th>3</th>\n",
       "      <td>Good Evening!</td>\n",
       "      <td>greetings</td>\n",
       "    </tr>\n",
       "    <tr>\n",
       "      <th>4</th>\n",
       "      <td>bye</td>\n",
       "      <td>goodbye</td>\n",
       "    </tr>\n",
       "  </tbody>\n",
       "</table>\n",
       "</div>"
      ],
      "text/plain": [
       "           input     target\n",
       "0             Hi  greetings\n",
       "1          Hello  greetings\n",
       "2  Good Morning!  greetings\n",
       "3  Good Evening!  greetings\n",
       "4            bye    goodbye"
      ]
     },
     "execution_count": 22,
     "metadata": {},
     "output_type": "execute_result"
    }
   ],
   "source": [
    "def load_chat_data():\n",
    "    # loading the data  \n",
    "    with open(\"train_classes.json\",'r') as jdata:\n",
    "        data = json.load(jdata)\n",
    "\n",
    "    train_data = []\n",
    "\n",
    "    for intent, sentences in data.items():\n",
    "        input_target_pair = list(map(lambda x: (x,intent),sentences))\n",
    "        train_data.extend(input_target_pair)\n",
    "\n",
    "    train_dataframe = pd.DataFrame(train_data, columns = [\"input\",\"target\"])\n",
    "    return train_dataframe\n",
    "\n",
    "data = load_chat_data()\n",
    "data.head()"
   ]
  },
  {
   "cell_type": "code",
   "execution_count": 23,
   "id": "93ba4f4b",
   "metadata": {},
   "outputs": [],
   "source": [
    "\"\"\"\n",
    "Replacing the target with numeric value\n",
    "\"\"\"\n",
    "data[\"target\"] = data[\"target\"].map(classes_label_code)"
   ]
  },
  {
   "cell_type": "code",
   "execution_count": 15,
   "id": "5b954d25",
   "metadata": {},
   "outputs": [],
   "source": [
    "def tokenize(data):\n",
    "    # Word tokenize\n",
    "    tokens = word_tokenize(data)\n",
    "    return tokens\n",
    "\n",
    "def remove_junks(tokens):\n",
    "    # Removing punctuations\n",
    "    wo_punctuations  = set(tokens).difference(set(punctuation))\n",
    "    # Remove stopwords\n",
    "    stop_words = set(stopwords.words('english'))\n",
    "    wo_stopwords_puncts = wo_punctuations.difference(stop_words)\n",
    "    return list(wo_stopwords_puncts)\n",
    "\n",
    "def stemming(clean_words):\n",
    "    stem_obj = PorterStemmer()\n",
    "    stem_words = list(map(lambda x:stem_obj.stem(x),clean_words))\n",
    "    return stem_words\n",
    "\n",
    "def create_vocabulary(series_):\n",
    "    # creating a vocanulary out of text column\n",
    "    pass"
   ]
  },
  {
   "cell_type": "code",
   "execution_count": null,
   "id": "3a41692e",
   "metadata": {},
   "outputs": [],
   "source": []
  }
 ],
 "metadata": {
  "kernelspec": {
   "display_name": "Python 3",
   "language": "python",
   "name": "python3"
  },
  "language_info": {
   "codemirror_mode": {
    "name": "ipython",
    "version": 3
   },
   "file_extension": ".py",
   "mimetype": "text/x-python",
   "name": "python",
   "nbconvert_exporter": "python",
   "pygments_lexer": "ipython3",
   "version": "3.10.9 (tags/v3.10.9:1dd9be6, Dec  6 2022, 20:01:21) [MSC v.1934 64 bit (AMD64)]"
  },
  "vscode": {
   "interpreter": {
    "hash": "36840aa061d57676fd0a98adb9ce61fb9c401615cb1ec9b9a8602da2202b251d"
   }
  }
 },
 "nbformat": 4,
 "nbformat_minor": 5
}
