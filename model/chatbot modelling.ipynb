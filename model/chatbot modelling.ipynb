{
  "cells": [
    {
      "cell_type": "markdown",
      "metadata": {
        "id": "view-in-github",
        "colab_type": "text"
      },
      "source": [
        "<a href=\"https://colab.research.google.com/github/DhaneshGavimath/NLP-Projects/blob/main/model/chatbot%20modelling.ipynb\" target=\"_parent\"><img src=\"https://colab.research.google.com/assets/colab-badge.svg\" alt=\"Open In Colab\"/></a>"
      ]
    },
    {
      "cell_type": "code",
      "execution_count": 2,
      "id": "727c49d9",
      "metadata": {
        "id": "727c49d9"
      },
      "outputs": [],
      "source": [
        "# pip install jupyterthemes\n",
        "# !jt -l"
      ]
    },
    {
      "cell_type": "code",
      "execution_count": 3,
      "id": "849252f4",
      "metadata": {
        "id": "849252f4"
      },
      "outputs": [],
      "source": [
        "# Choosing the notebook theme\n",
        "# !jt -t monokai"
      ]
    },
    {
      "cell_type": "markdown",
      "id": "6b03c252",
      "metadata": {
        "id": "6b03c252"
      },
      "source": [
        "Imports"
      ]
    },
    {
      "cell_type": "code",
      "execution_count": 4,
      "id": "489d7b14",
      "metadata": {
        "id": "489d7b14"
      },
      "outputs": [],
      "source": [
        "import pandas as pd\n",
        "import numpy as np\n",
        "import json\n",
        "import nltk \n",
        "import sklearn"
      ]
    },
    {
      "cell_type": "code",
      "execution_count": 5,
      "id": "76c94d81",
      "metadata": {
        "id": "76c94d81"
      },
      "outputs": [],
      "source": [
        "from nltk.tokenize import word_tokenize\n",
        "from nltk.stem.porter import PorterStemmer\n",
        "from nltk.corpus import stopwords\n",
        "from string import punctuation"
      ]
    },
    {
      "cell_type": "code",
      "execution_count": 14,
      "id": "392d0459",
      "metadata": {
        "colab": {
          "base_uri": "https://localhost:8080/"
        },
        "id": "392d0459",
        "outputId": "74bf5e70-8174-49cb-e5ec-ec70577ba15f"
      },
      "outputs": [
        {
          "output_type": "stream",
          "name": "stderr",
          "text": [
            "[nltk_data] Downloading package stopwords to /root/nltk_data...\n",
            "[nltk_data]   Package stopwords is already up-to-date!\n",
            "[nltk_data] Downloading package punkt to /root/nltk_data...\n",
            "[nltk_data]   Unzipping tokenizers/punkt.zip.\n"
          ]
        },
        {
          "output_type": "execute_result",
          "data": {
            "text/plain": [
              "True"
            ]
          },
          "metadata": {},
          "execution_count": 14
        }
      ],
      "source": [
        "nltk.download(\"stopwords\")\n",
        "nltk.download('punkt')"
      ]
    },
    {
      "cell_type": "code",
      "execution_count": 7,
      "id": "d865b5b4",
      "metadata": {
        "id": "d865b5b4"
      },
      "outputs": [],
      "source": [
        "\"\"\"\n",
        "classes\n",
        "\"\"\"\n",
        "intents_classes = [\"greetings\", \"goodbye\",\"fee_structure\", \"campus_placement\", \"departments\", \n",
        "                    \"adress\",\"activities\", \"commute\",\"gratitude\"]\n",
        "intents_classes.sort()\n",
        "classes_code_label = dict(map(lambda x:(intents_classes.index(x),x),intents_classes))\n",
        "classes_label_code = dict(map(lambda x:(x,intents_classes.index(x)),intents_classes))\n",
        "# print(\"-------------classes_str_to_num-----------\\n\",classes_str_to_num)\n",
        "# print(\"-------------classes_num_to_str-----------\\n\",classes_num_to_str)"
      ]
    },
    {
      "cell_type": "markdown",
      "id": "50e78851",
      "metadata": {
        "id": "50e78851"
      },
      "source": [
        "### Load Data\n",
        " Here we will be loading the json we made containing the questions user might ask.\n",
        " as we run this file it show load the training file, perform datacleaning, vector repressentation\n",
        " and finally creating a dataframe and write to current folder. \n",
        " we will be running this file only to retrain the model with updated data we might get new words.\n",
        "    "
      ]
    },
    {
      "cell_type": "code",
      "execution_count": 35,
      "id": "c415a470",
      "metadata": {
        "colab": {
          "base_uri": "https://localhost:8080/",
          "height": 206
        },
        "id": "c415a470",
        "outputId": "ed0be3b3-7887-4634-de1d-f668816845b5"
      },
      "outputs": [
        {
          "output_type": "execute_result",
          "data": {
            "text/plain": [
              "           input     target\n",
              "0             Hi  greetings\n",
              "1          Hello  greetings\n",
              "2  Good Morning!  greetings\n",
              "3  Good Evening!  greetings\n",
              "4            bye    goodbye"
            ],
            "text/html": [
              "\n",
              "  <div id=\"df-688767eb-c91f-4913-928d-c76356b29c0e\">\n",
              "    <div class=\"colab-df-container\">\n",
              "      <div>\n",
              "<style scoped>\n",
              "    .dataframe tbody tr th:only-of-type {\n",
              "        vertical-align: middle;\n",
              "    }\n",
              "\n",
              "    .dataframe tbody tr th {\n",
              "        vertical-align: top;\n",
              "    }\n",
              "\n",
              "    .dataframe thead th {\n",
              "        text-align: right;\n",
              "    }\n",
              "</style>\n",
              "<table border=\"1\" class=\"dataframe\">\n",
              "  <thead>\n",
              "    <tr style=\"text-align: right;\">\n",
              "      <th></th>\n",
              "      <th>input</th>\n",
              "      <th>target</th>\n",
              "    </tr>\n",
              "  </thead>\n",
              "  <tbody>\n",
              "    <tr>\n",
              "      <th>0</th>\n",
              "      <td>Hi</td>\n",
              "      <td>greetings</td>\n",
              "    </tr>\n",
              "    <tr>\n",
              "      <th>1</th>\n",
              "      <td>Hello</td>\n",
              "      <td>greetings</td>\n",
              "    </tr>\n",
              "    <tr>\n",
              "      <th>2</th>\n",
              "      <td>Good Morning!</td>\n",
              "      <td>greetings</td>\n",
              "    </tr>\n",
              "    <tr>\n",
              "      <th>3</th>\n",
              "      <td>Good Evening!</td>\n",
              "      <td>greetings</td>\n",
              "    </tr>\n",
              "    <tr>\n",
              "      <th>4</th>\n",
              "      <td>bye</td>\n",
              "      <td>goodbye</td>\n",
              "    </tr>\n",
              "  </tbody>\n",
              "</table>\n",
              "</div>\n",
              "      <button class=\"colab-df-convert\" onclick=\"convertToInteractive('df-688767eb-c91f-4913-928d-c76356b29c0e')\"\n",
              "              title=\"Convert this dataframe to an interactive table.\"\n",
              "              style=\"display:none;\">\n",
              "        \n",
              "  <svg xmlns=\"http://www.w3.org/2000/svg\" height=\"24px\"viewBox=\"0 0 24 24\"\n",
              "       width=\"24px\">\n",
              "    <path d=\"M0 0h24v24H0V0z\" fill=\"none\"/>\n",
              "    <path d=\"M18.56 5.44l.94 2.06.94-2.06 2.06-.94-2.06-.94-.94-2.06-.94 2.06-2.06.94zm-11 1L8.5 8.5l.94-2.06 2.06-.94-2.06-.94L8.5 2.5l-.94 2.06-2.06.94zm10 10l.94 2.06.94-2.06 2.06-.94-2.06-.94-.94-2.06-.94 2.06-2.06.94z\"/><path d=\"M17.41 7.96l-1.37-1.37c-.4-.4-.92-.59-1.43-.59-.52 0-1.04.2-1.43.59L10.3 9.45l-7.72 7.72c-.78.78-.78 2.05 0 2.83L4 21.41c.39.39.9.59 1.41.59.51 0 1.02-.2 1.41-.59l7.78-7.78 2.81-2.81c.8-.78.8-2.07 0-2.86zM5.41 20L4 18.59l7.72-7.72 1.47 1.35L5.41 20z\"/>\n",
              "  </svg>\n",
              "      </button>\n",
              "      \n",
              "  <style>\n",
              "    .colab-df-container {\n",
              "      display:flex;\n",
              "      flex-wrap:wrap;\n",
              "      gap: 12px;\n",
              "    }\n",
              "\n",
              "    .colab-df-convert {\n",
              "      background-color: #E8F0FE;\n",
              "      border: none;\n",
              "      border-radius: 50%;\n",
              "      cursor: pointer;\n",
              "      display: none;\n",
              "      fill: #1967D2;\n",
              "      height: 32px;\n",
              "      padding: 0 0 0 0;\n",
              "      width: 32px;\n",
              "    }\n",
              "\n",
              "    .colab-df-convert:hover {\n",
              "      background-color: #E2EBFA;\n",
              "      box-shadow: 0px 1px 2px rgba(60, 64, 67, 0.3), 0px 1px 3px 1px rgba(60, 64, 67, 0.15);\n",
              "      fill: #174EA6;\n",
              "    }\n",
              "\n",
              "    [theme=dark] .colab-df-convert {\n",
              "      background-color: #3B4455;\n",
              "      fill: #D2E3FC;\n",
              "    }\n",
              "\n",
              "    [theme=dark] .colab-df-convert:hover {\n",
              "      background-color: #434B5C;\n",
              "      box-shadow: 0px 1px 3px 1px rgba(0, 0, 0, 0.15);\n",
              "      filter: drop-shadow(0px 1px 2px rgba(0, 0, 0, 0.3));\n",
              "      fill: #FFFFFF;\n",
              "    }\n",
              "  </style>\n",
              "\n",
              "      <script>\n",
              "        const buttonEl =\n",
              "          document.querySelector('#df-688767eb-c91f-4913-928d-c76356b29c0e button.colab-df-convert');\n",
              "        buttonEl.style.display =\n",
              "          google.colab.kernel.accessAllowed ? 'block' : 'none';\n",
              "\n",
              "        async function convertToInteractive(key) {\n",
              "          const element = document.querySelector('#df-688767eb-c91f-4913-928d-c76356b29c0e');\n",
              "          const dataTable =\n",
              "            await google.colab.kernel.invokeFunction('convertToInteractive',\n",
              "                                                     [key], {});\n",
              "          if (!dataTable) return;\n",
              "\n",
              "          const docLinkHtml = 'Like what you see? Visit the ' +\n",
              "            '<a target=\"_blank\" href=https://colab.research.google.com/notebooks/data_table.ipynb>data table notebook</a>'\n",
              "            + ' to learn more about interactive tables.';\n",
              "          element.innerHTML = '';\n",
              "          dataTable['output_type'] = 'display_data';\n",
              "          await google.colab.output.renderOutput(dataTable, element);\n",
              "          const docLink = document.createElement('div');\n",
              "          docLink.innerHTML = docLinkHtml;\n",
              "          element.appendChild(docLink);\n",
              "        }\n",
              "      </script>\n",
              "    </div>\n",
              "  </div>\n",
              "  "
            ]
          },
          "metadata": {},
          "execution_count": 35
        }
      ],
      "source": [
        "def load_chat_data():\n",
        "    # loading the data  \n",
        "    with open(\"train_classes.json\",'r') as jdata:\n",
        "        data = json.load(jdata)\n",
        "\n",
        "    train_data = []\n",
        "\n",
        "    for intent, sentences in data.items():\n",
        "        input_target_pair = list(map(lambda x: (x,intent),sentences))\n",
        "        train_data.extend(input_target_pair)\n",
        "\n",
        "    train_dataframe = pd.DataFrame(train_data, columns = [\"input\",\"target\"])\n",
        "    return train_dataframe\n",
        "\n",
        "data = load_chat_data()\n",
        "data.head()"
      ]
    },
    {
      "cell_type": "code",
      "execution_count": 36,
      "id": "93ba4f4b",
      "metadata": {
        "id": "93ba4f4b"
      },
      "outputs": [],
      "source": [
        "\"\"\"\n",
        "Replacing the target with numeric value\n",
        "\"\"\"\n",
        "data[\"target\"] = data[\"target\"].map(classes_label_code)"
      ]
    },
    {
      "cell_type": "code",
      "execution_count": 37,
      "id": "5b954d25",
      "metadata": {
        "id": "5b954d25"
      },
      "outputs": [],
      "source": [
        "def tokenize(data):\n",
        "    # Word tokenize\n",
        "    tokens = word_tokenize(data)\n",
        "    return tokens\n",
        "\n",
        "def remove_junks(tokens):\n",
        "    # Removing punctuations\n",
        "    wo_punctuations  = set(tokens).difference(set(punctuation))\n",
        "    # Remove stopwords\n",
        "    stop_words = set(stopwords.words('english'))\n",
        "    wo_stopwords_puncts = wo_punctuations.difference(stop_words)\n",
        "    return list(wo_stopwords_puncts)\n",
        "\n",
        "def stemming(clean_words):\n",
        "    stem_obj = PorterStemmer()\n",
        "    stem_words = list(map(lambda x:stem_obj.stem(x),clean_words))\n",
        "    return stem_words\n",
        "\n",
        "def create_vocabulary(data, column):\n",
        "    # creating a vocabulary out of text column\n",
        "    vocab = []\n",
        "    for record in data[column].values:\n",
        "      vocab.extend(record)\n",
        "    return set(vocab)\n",
        "\n",
        "def clean_data(df, column):\n",
        "    df[column]= df[column].apply(tokenize)\n",
        "    df[column]= df[column].apply(remove_junks)\n",
        "    df[column]= df[column].apply(stemming)\n",
        "    return df"
      ]
    },
    {
      "cell_type": "code",
      "execution_count": 38,
      "id": "3a41692e",
      "metadata": {
        "id": "3a41692e"
      },
      "outputs": [],
      "source": [
        "data = clean_data(data,\"input\")\n"
      ]
    },
    {
      "cell_type": "code",
      "source": [
        "vocabulary = create_vocabulary(data, \"input\")\n",
        "vocab_dict = {\"vocabulary\":list(vocabulary)}"
      ],
      "metadata": {
        "id": "2jmC_IWC4udF"
      },
      "id": "2jmC_IWC4udF",
      "execution_count": 39,
      "outputs": []
    },
    {
      "cell_type": "code",
      "source": [
        "# Writing Vocabulary to json file\n",
        "with open(\"vocabulary.json\",\"w\") as voc:\n",
        "  json.dump()"
      ],
      "metadata": {
        "colab": {
          "base_uri": "https://localhost:8080/"
        },
        "id": "TTTswD1G1gJF",
        "outputId": "cf0eb77c-8dbe-44c0-bda8-dc0caae15554"
      },
      "id": "TTTswD1G1gJF",
      "execution_count": 43,
      "outputs": [
        {
          "output_type": "execute_result",
          "data": {
            "text/plain": [
              "{'activ',\n",
              " 'adress',\n",
              " 'appreci',\n",
              " 'avail',\n",
              " 'bu',\n",
              " 'bye',\n",
              " 'campu',\n",
              " 'choos',\n",
              " 'colleg',\n",
              " 'commut',\n",
              " 'cours',\n",
              " 'depart',\n",
              " 'donat',\n",
              " 'even',\n",
              " 'facil',\n",
              " 'fee',\n",
              " 'fee_structur',\n",
              " 'game',\n",
              " 'good',\n",
              " 'great',\n",
              " 'hello',\n",
              " 'hi',\n",
              " 'how',\n",
              " 'i',\n",
              " 'job',\n",
              " 'locat',\n",
              " 'metro',\n",
              " 'morn',\n",
              " 'much',\n",
              " 'nearbi',\n",
              " 'night',\n",
              " 'opertun',\n",
              " 'placement',\n",
              " 'provid',\n",
              " 'see',\n",
              " 'sport',\n",
              " 'station',\n",
              " 'structur',\n",
              " 'subject',\n",
              " 'taxi',\n",
              " 'thank',\n",
              " 'travel',\n",
              " 'valu',\n",
              " 'work',\n",
              " 'you'}"
            ]
          },
          "metadata": {},
          "execution_count": 43
        }
      ]
    },
    {
      "cell_type": "code",
      "source": [],
      "metadata": {
        "id": "wmiNFNld1tcS"
      },
      "id": "wmiNFNld1tcS",
      "execution_count": null,
      "outputs": []
    },
    {
      "cell_type": "code",
      "source": [],
      "metadata": {
        "id": "JdsW4-gs3m_Z"
      },
      "id": "JdsW4-gs3m_Z",
      "execution_count": 19,
      "outputs": []
    },
    {
      "cell_type": "code",
      "source": [],
      "metadata": {
        "id": "xVmfH1_X3wjl"
      },
      "id": "xVmfH1_X3wjl",
      "execution_count": null,
      "outputs": []
    }
  ],
  "metadata": {
    "kernelspec": {
      "display_name": "Python 3",
      "language": "python",
      "name": "python3"
    },
    "language_info": {
      "codemirror_mode": {
        "name": "ipython",
        "version": 3
      },
      "file_extension": ".py",
      "mimetype": "text/x-python",
      "name": "python",
      "nbconvert_exporter": "python",
      "pygments_lexer": "ipython3",
      "version": "3.10.9 (tags/v3.10.9:1dd9be6, Dec  6 2022, 20:01:21) [MSC v.1934 64 bit (AMD64)]"
    },
    "vscode": {
      "interpreter": {
        "hash": "36840aa061d57676fd0a98adb9ce61fb9c401615cb1ec9b9a8602da2202b251d"
      }
    },
    "colab": {
      "provenance": [],
      "include_colab_link": true
    }
  },
  "nbformat": 4,
  "nbformat_minor": 5
}